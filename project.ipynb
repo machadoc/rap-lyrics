{
 "cells": [
  {
   "cell_type": "code",
   "execution_count": 5,
   "metadata": {},
   "outputs": [],
   "source": [
    "%load_ext autoreload\n",
    "%autoreload 2"
   ]
  },
  {
   "cell_type": "code",
   "execution_count": 4,
   "metadata": {},
   "outputs": [],
   "source": [
    "import pandas as pd"
   ]
  },
  {
   "cell_type": "code",
   "execution_count": 3,
   "metadata": {},
   "outputs": [
    {
     "data": {
      "text/html": [
       "<div>\n",
       "<style scoped>\n",
       "    .dataframe tbody tr th:only-of-type {\n",
       "        vertical-align: middle;\n",
       "    }\n",
       "\n",
       "    .dataframe tbody tr th {\n",
       "        vertical-align: top;\n",
       "    }\n",
       "\n",
       "    .dataframe thead th {\n",
       "        text-align: right;\n",
       "    }\n",
       "</style>\n",
       "<table border=\"1\" class=\"dataframe\">\n",
       "  <thead>\n",
       "    <tr style=\"text-align: right;\">\n",
       "      <th></th>\n",
       "      <th>title</th>\n",
       "      <th>tag</th>\n",
       "      <th>artist</th>\n",
       "      <th>year</th>\n",
       "      <th>views</th>\n",
       "      <th>features</th>\n",
       "      <th>lyrics</th>\n",
       "      <th>id</th>\n",
       "      <th>language_cld3</th>\n",
       "      <th>language_ft</th>\n",
       "      <th>language</th>\n",
       "    </tr>\n",
       "  </thead>\n",
       "  <tbody>\n",
       "    <tr>\n",
       "      <th>0</th>\n",
       "      <td>Killa Cam</td>\n",
       "      <td>rap</td>\n",
       "      <td>Cam'ron</td>\n",
       "      <td>2004</td>\n",
       "      <td>173166</td>\n",
       "      <td>{\"Cam\\\\'ron\",\"Opera Steve\"}</td>\n",
       "      <td>[Chorus: Opera Steve &amp; Cam'ron]\\nKilla Cam, Ki...</td>\n",
       "      <td>1</td>\n",
       "      <td>en</td>\n",
       "      <td>en</td>\n",
       "      <td>en</td>\n",
       "    </tr>\n",
       "    <tr>\n",
       "      <th>1</th>\n",
       "      <td>Can I Live</td>\n",
       "      <td>rap</td>\n",
       "      <td>JAY-Z</td>\n",
       "      <td>1996</td>\n",
       "      <td>468624</td>\n",
       "      <td>{}</td>\n",
       "      <td>[Produced by Irv Gotti]\\n\\n[Intro]\\nYeah, hah,...</td>\n",
       "      <td>3</td>\n",
       "      <td>en</td>\n",
       "      <td>en</td>\n",
       "      <td>en</td>\n",
       "    </tr>\n",
       "    <tr>\n",
       "      <th>2</th>\n",
       "      <td>Forgive Me Father</td>\n",
       "      <td>rap</td>\n",
       "      <td>Fabolous</td>\n",
       "      <td>2003</td>\n",
       "      <td>4743</td>\n",
       "      <td>{}</td>\n",
       "      <td>Maybe cause I'm eatin\\nAnd these bastards fien...</td>\n",
       "      <td>4</td>\n",
       "      <td>en</td>\n",
       "      <td>en</td>\n",
       "      <td>en</td>\n",
       "    </tr>\n",
       "    <tr>\n",
       "      <th>3</th>\n",
       "      <td>Down and Out</td>\n",
       "      <td>rap</td>\n",
       "      <td>Cam'ron</td>\n",
       "      <td>2004</td>\n",
       "      <td>144404</td>\n",
       "      <td>{\"Cam\\\\'ron\",\"Kanye West\",\"Syleena Johnson\"}</td>\n",
       "      <td>[Produced by Kanye West and Brian Miller]\\n\\n[...</td>\n",
       "      <td>5</td>\n",
       "      <td>en</td>\n",
       "      <td>en</td>\n",
       "      <td>en</td>\n",
       "    </tr>\n",
       "    <tr>\n",
       "      <th>4</th>\n",
       "      <td>Fly In</td>\n",
       "      <td>rap</td>\n",
       "      <td>Lil Wayne</td>\n",
       "      <td>2005</td>\n",
       "      <td>78271</td>\n",
       "      <td>{}</td>\n",
       "      <td>[Intro]\\nSo they ask me\\n\"Young boy\\nWhat you ...</td>\n",
       "      <td>6</td>\n",
       "      <td>en</td>\n",
       "      <td>en</td>\n",
       "      <td>en</td>\n",
       "    </tr>\n",
       "  </tbody>\n",
       "</table>\n",
       "</div>"
      ],
      "text/plain": [
       "               title  tag     artist  year   views  \\\n",
       "0          Killa Cam  rap    Cam'ron  2004  173166   \n",
       "1         Can I Live  rap      JAY-Z  1996  468624   \n",
       "2  Forgive Me Father  rap   Fabolous  2003    4743   \n",
       "3       Down and Out  rap    Cam'ron  2004  144404   \n",
       "4             Fly In  rap  Lil Wayne  2005   78271   \n",
       "\n",
       "                                       features  \\\n",
       "0                   {\"Cam\\\\'ron\",\"Opera Steve\"}   \n",
       "1                                            {}   \n",
       "2                                            {}   \n",
       "3  {\"Cam\\\\'ron\",\"Kanye West\",\"Syleena Johnson\"}   \n",
       "4                                            {}   \n",
       "\n",
       "                                              lyrics  id language_cld3  \\\n",
       "0  [Chorus: Opera Steve & Cam'ron]\\nKilla Cam, Ki...   1            en   \n",
       "1  [Produced by Irv Gotti]\\n\\n[Intro]\\nYeah, hah,...   3            en   \n",
       "2  Maybe cause I'm eatin\\nAnd these bastards fien...   4            en   \n",
       "3  [Produced by Kanye West and Brian Miller]\\n\\n[...   5            en   \n",
       "4  [Intro]\\nSo they ask me\\n\"Young boy\\nWhat you ...   6            en   \n",
       "\n",
       "  language_ft language  \n",
       "0          en       en  \n",
       "1          en       en  \n",
       "2          en       en  \n",
       "3          en       en  \n",
       "4          en       en  "
      ]
     },
     "execution_count": 3,
     "metadata": {},
     "output_type": "execute_result"
    }
   ],
   "source": [
    "dataset = pd.read_csv('song_lyrics.csv')\n",
    "dataset.sort_values(by='id')\n",
    "dataset.head()"
   ]
  },
  {
   "cell_type": "code",
   "execution_count": null,
   "metadata": {},
   "outputs": [],
   "source": [
    "def filter_songs(df):\n",
    "    filtered_df = df[(df['tag'] == 'rap') & (df['language'] == 'en') & \n",
    "                     (df['lyrics'].notna()) & (df['lyrics'] != '') & \n",
    "                     (df['lyrics'] != '[Instrumental]') & (df['views'] != 0)]\n",
    "    return filtered_df[['id', 'title', 'artist', 'lyrics', 'views']]"
   ]
  },
  {
   "cell_type": "code",
   "execution_count": 8,
   "metadata": {},
   "outputs": [
    {
     "data": {
      "text/html": [
       "<div>\n",
       "<style scoped>\n",
       "    .dataframe tbody tr th:only-of-type {\n",
       "        vertical-align: middle;\n",
       "    }\n",
       "\n",
       "    .dataframe tbody tr th {\n",
       "        vertical-align: top;\n",
       "    }\n",
       "\n",
       "    .dataframe thead th {\n",
       "        text-align: right;\n",
       "    }\n",
       "</style>\n",
       "<table border=\"1\" class=\"dataframe\">\n",
       "  <thead>\n",
       "    <tr style=\"text-align: right;\">\n",
       "      <th></th>\n",
       "      <th>id</th>\n",
       "      <th>title</th>\n",
       "      <th>artist</th>\n",
       "      <th>lyrics</th>\n",
       "      <th>views</th>\n",
       "    </tr>\n",
       "  </thead>\n",
       "  <tbody>\n",
       "    <tr>\n",
       "      <th>0</th>\n",
       "      <td>1</td>\n",
       "      <td>Killa Cam</td>\n",
       "      <td>Cam'ron</td>\n",
       "      <td>[Chorus: Opera Steve &amp; Cam'ron]\\nKilla Cam, Ki...</td>\n",
       "      <td>173166</td>\n",
       "    </tr>\n",
       "    <tr>\n",
       "      <th>1</th>\n",
       "      <td>3</td>\n",
       "      <td>Can I Live</td>\n",
       "      <td>JAY-Z</td>\n",
       "      <td>[Produced by Irv Gotti]\\n\\n[Intro]\\nYeah, hah,...</td>\n",
       "      <td>468624</td>\n",
       "    </tr>\n",
       "    <tr>\n",
       "      <th>2</th>\n",
       "      <td>4</td>\n",
       "      <td>Forgive Me Father</td>\n",
       "      <td>Fabolous</td>\n",
       "      <td>Maybe cause I'm eatin\\nAnd these bastards fien...</td>\n",
       "      <td>4743</td>\n",
       "    </tr>\n",
       "    <tr>\n",
       "      <th>3</th>\n",
       "      <td>5</td>\n",
       "      <td>Down and Out</td>\n",
       "      <td>Cam'ron</td>\n",
       "      <td>[Produced by Kanye West and Brian Miller]\\n\\n[...</td>\n",
       "      <td>144404</td>\n",
       "    </tr>\n",
       "    <tr>\n",
       "      <th>4</th>\n",
       "      <td>6</td>\n",
       "      <td>Fly In</td>\n",
       "      <td>Lil Wayne</td>\n",
       "      <td>[Intro]\\nSo they ask me\\n\"Young boy\\nWhat you ...</td>\n",
       "      <td>78271</td>\n",
       "    </tr>\n",
       "  </tbody>\n",
       "</table>\n",
       "</div>"
      ],
      "text/plain": [
       "   id              title     artist  \\\n",
       "0   1          Killa Cam    Cam'ron   \n",
       "1   3         Can I Live      JAY-Z   \n",
       "2   4  Forgive Me Father   Fabolous   \n",
       "3   5       Down and Out    Cam'ron   \n",
       "4   6             Fly In  Lil Wayne   \n",
       "\n",
       "                                              lyrics   views  \n",
       "0  [Chorus: Opera Steve & Cam'ron]\\nKilla Cam, Ki...  173166  \n",
       "1  [Produced by Irv Gotti]\\n\\n[Intro]\\nYeah, hah,...  468624  \n",
       "2  Maybe cause I'm eatin\\nAnd these bastards fien...    4743  \n",
       "3  [Produced by Kanye West and Brian Miller]\\n\\n[...  144404  \n",
       "4  [Intro]\\nSo they ask me\\n\"Young boy\\nWhat you ...   78271  "
      ]
     },
     "execution_count": 8,
     "metadata": {},
     "output_type": "execute_result"
    }
   ],
   "source": [
    "dataset = filter_songs(dataset)\n",
    "dataset.to_csv('filtered_song_lyrics.csv', index=False)\n",
    "dataset.head()"
   ]
  },
  {
   "cell_type": "code",
   "execution_count": 8,
   "metadata": {},
   "outputs": [],
   "source": [
    "dataset = pd.read_csv('filtered_song_lyrics.csv')\n"
   ]
  },
  {
   "cell_type": "code",
   "execution_count": 9,
   "metadata": {},
   "outputs": [
    {
     "data": {
      "text/plain": [
       "'[Chorus: Opera Steve & Cam\\'ron]\\nKilla Cam, Killa Cam, Cam\\nKilla Cam, Killa Cam\\nKilla Cam, Cam\\nKilla Cam, Killa Cam, Cam\\nKilla Killa Killa Cam\\nKilla Cam, Cam, Killa (Killa!)\\nKilla Cam, Killa Cam, Cam (Bases loaded)\\nKilla Cam, Killa Cam (Uh-huh)\\nKilla Cam, Cam (Santana on second, Jim on third)\\nKilla Cam, Killa Cam, Cam (I\\'m at bat)\\nKilla Killa Killa Cam\\nKilla Cam, Cam, Killa (I\\'m \\'bout to hit this shit out the world)\\nKilla Cam (Ugh, Heatmakerz), Killa Cam, Cam\\nKilla Cam, Killa Cam\\nKilla Cam, Cam (Hahahaha)\\nKilla Cam, Killa Cam, Cam\\nKilla Killa Killa Cam\\nKilla Cam, Cam, Killa (We  make this shit clap)\\nKilla Cam, Killa Cam, Cam\\nKilla Cam, Killa Cam\\nKilla Cam, Cam\\nKilla Cam, Killa Cam, Cam\\nKilla Killa Killa Cam (Killa! Killa!)\\nKilla Cam, Cam, Killa\\n[Verse 1]\\nWith the goons I spar, stay in tune with ma (What up?)\\nShe like, \"Damn, this the realest since \\'Kumbaya\\'\"\\nBomaye, Killa Cam, my Lord (My Lord)\\nStill the man with the pan, scrilla, fam, on board\\nNow bitches, they want to neuter me, niggas, they want to tutor me\\nThe hooligan in Houlihan\\'s, maneuvering\\'s nothing new to me\\nDoggy, I\\'m from the land of grind, pan-pan: gram or dime?\\nNot toes or MC when I say \"hammer time\"\\nBeef: I hammer mine, when I get my hands on nines\\nIf I had on \\'Bama line, Corduroys, Cam\\'ll shine\\nCanary burgundy: I call it \"Lemon Red\" (Red)\\nYellow diamonds in my ear, call \\'em \"Lemonheads\"\\nLemonhead, end up dead, ice like Winnipeg\\nGemstone, Flintstones, you could say I\\'m friends with Fred\\nYou unhappy, scrappy? (What\\'s going on, Scrappy?)\\nI got Pataki at me\\nBitches say I\\'m \"Tacky Daddy,\" Range look like Laffy Taffy\\n\\n[Chorus]\\nKilla Cam\\nKilla Cam Cam (sing)\\nKilla Cam Killa Cam\\nKilla Cam Cam (uhh, it\\'s me, clap)\\nKilla Cam\\nKilla Cam Cam\\nKilla Killa Killa Cam (sing)\\nKilla Cam Cam Killa (uhh, it\\'s me, clap)\\nKilla Cam\\nKilla Cam Cam (sing)\\nKilla Cam Killa Cam\\nKilla Cam Cam (clap, it\\'s me)\\nKilla Cam\\nKilla Cam Cam\\nKilla Killa Killa Cam (clap)\\n(Harlem, I know y\\'all know about this)\\nKilla Cam Cam Killa (Killa!)\\n[Verse 2]\\nYo, I\\'m from where Nicky Barnes got rich as fuck\\nRich and A hit the kitchens then were pitchin\\' up\\nRob Base, Mase, Doug E Fresh switched it up\\nI do both, who am I to fuck tradition up? (Killa!)\\nSo I parked in a tow-away zone\\nChrome...I don\\'t care\\nThat car a throwaway, homes (Killa!)\\nWelcome to Harlem, where you welcome to problems\\nOff of furlough, fellow felons get pardons\\nThem niggas knew we bang\\nStood out like Pootie Tang\\nSoon as the stoolie sings\\nThat when the toolie sing!\\nBang! Bang!\\nCame from that movie ring\\nSnap, crack jewelry bling\\nFlapjack, ooh he bring\\nClack-clack, \"ooh he ring!\"\\nBad rap, cuties cling\\nAss cap, put them in the river\\nI\\'m the sushi king\\nAnd I\\'ma keep ya fresh\\nLet the fish eat ya flesh\\nYes sir, please confess\\nJust say he\\'s the best (Killa!)\\n[Chorus]\\nKilla Cam (sing)\\nKilla Cam Cam (clap)\\nKilla Cam Killa Cam (yes)\\nKilla Cam Cam (it\\'s me, sing)\\nKilla Cam\\nKilla Cam Cam (sing)\\nKilla Killa Killa Cam\\nKilla Cam Cam Killa  (clap, yes sir, uhh)\\nKilla Cam\\nKilla Cam Cam (sing, clap)\\nKilla Cam Killa Cam\\nKilla Cam Cam (it\\'s me)\\nKilla Cam (sing, clap)\\nKilla Cam Cam\\nKilla Killa Killa Cam\\n(Let me end this shit, listen)\\nKilla Cam Cam Killa\\n\\n[Verse 3]\\n(Killa!) Yo\\nHow dope is this?\\nTeach you how to rope a chick\\nWhat you want: coke or piff?\\nGot it all, smoke or sniff? (everything)\\nAnd you know my drift\\nUsed to figures, dough and shit (millions)\\nYou a rooster nigga, just a roaster, bitch\\nAnd I roast ya bitch\\nThat\\'s how it usually ends\\nTell her and her groupie friends\\nGo get their coochie cleansed\\nWe the moody Gucci, Louis and Pucci men\\nEscada, Prada\\nThe chopper it got the Uzi lens\\nBird\\'s-eye view\\nThe birds I knew flip birds\\nBird gangs, it was birds I flew\\nAnd word I blew off herb I grew\\nI would serve on stoops\\nNow swerve in coupes\\nIt\\'s me, sing! Killa, uhh\\n\\n[Chorus]\\nKilla Cam\\nKilla Cam Cam\\nKilla Cam Killa Cam\\nKilla Cam Cam\\nKilla Cam\\nKilla Cam Cam\\nKilla Killa Killa Cam\\nKilla Cam Cam Killa\\nKilla Cam\\nKilla Cam Cam\\nKilla Cam Killa Cam\\nKilla Cam Cam\\nKilla Cam\\nKilla Cam Cam\\nKilla Killa Killa Cam\\nKilla Cam Cam Killa'"
      ]
     },
     "execution_count": 9,
     "metadata": {},
     "output_type": "execute_result"
    }
   ],
   "source": [
    "dataset['lyrics'][0]"
   ]
  },
  {
   "cell_type": "code",
   "execution_count": 10,
   "metadata": {},
   "outputs": [
    {
     "name": "stderr",
     "output_type": "stream",
     "text": [
      "[nltk_data] Downloading package stopwords to\n",
      "[nltk_data]     /Users/dmachado111/nltk_data...\n",
      "[nltk_data]   Package stopwords is already up-to-date!\n",
      "[nltk_data] Downloading package wordnet to\n",
      "[nltk_data]     /Users/dmachado111/nltk_data...\n",
      "[nltk_data]   Package wordnet is already up-to-date!\n"
     ]
    }
   ],
   "source": [
    "import re\n",
    "import nltk\n",
    "from nltk.corpus import stopwords\n",
    "from nltk.stem import WordNetLemmatizer\n",
    "\n",
    "nltk.download('stopwords')\n",
    "nltk.download('wordnet')\n",
    "\n",
    "def process_lyrics(lyric):\n",
    "    lemmatizer = WordNetLemmatizer()\n",
    "    stop_words = set(stopwords.words('english')).union({'verse', 'chorus', 'intro', 'outro', 'dat', 'da'})\n",
    "\n",
    "    lyric = lyric.lower()\n",
    "    lyric = re.sub(r'[^a-z0-9\\s]', '', lyric)\n",
    "    words = lyric.split()\n",
    "    return ' '.join([lemmatizer.lemmatize(word) for word in words if word not in stop_words])"
   ]
  },
  {
   "cell_type": "code",
   "execution_count": 11,
   "metadata": {},
   "outputs": [
    {
     "data": {
      "text/plain": [
       "'opera steve camron killa cam killa cam cam killa cam killa cam killa cam cam killa cam killa cam cam killa killa killa cam killa cam cam killa killa killa cam killa cam cam base loaded killa cam killa cam uhhuh killa cam cam santana second jim third killa cam killa cam cam im bat killa killa killa cam killa cam cam killa im bout hit shit world killa cam ugh heatmakerz killa cam cam killa cam killa cam killa cam cam hahahaha killa cam killa cam cam killa killa killa cam killa cam cam killa make shit clap killa cam killa cam cam killa cam killa cam killa cam cam killa cam killa cam cam killa killa killa cam killa killa killa cam cam killa 1 goon spar stay tune like damn realest since kumbaya bomaye killa cam lord lord still man pan scrilla fam board bitch want neuter nigga want tutor hooligan houlihans maneuverings nothing new doggy im land grind panpan gram dime toe mc say hammer time beef hammer mine get hand nine bama line corduroy camll shine canary burgundy call lemon red red yellow diamond ear call em lemonheads lemonhead end dead ice like winnipeg gemstone flintstone could say im friend fred unhappy scrappy whats going scrappy got pataki bitch say im tacky daddy range look like laffy taffy killa cam killa cam cam sing killa cam killa cam killa cam cam uhh clap killa cam killa cam cam killa killa killa cam sing killa cam cam killa uhh clap killa cam killa cam cam sing killa cam killa cam killa cam cam clap killa cam killa cam cam killa killa killa cam clap harlem know yall know killa cam cam killa killa 2 yo im nicky barnes got rich fuck rich hit kitchen pitchin rob base mase doug e fresh switched fuck tradition killa parked towaway zone chromei dont care car throwaway home killa welcome harlem welcome problem furlough fellow felon get pardon nigga knew bang stood like pootie tang soon stoolie sings toolie sing bang bang came movie ring snap crack jewelry bling flapjack ooh bring clackclack ooh ring bad rap cuties cling as cap put river im sushi king ima keep ya fresh let fish eat ya flesh yes sir please confess say he best killa killa cam sing killa cam cam clap killa cam killa cam yes killa cam cam sing killa cam killa cam cam sing killa killa killa cam killa cam cam killa clap yes sir uhh killa cam killa cam cam sing clap killa cam killa cam killa cam cam killa cam sing clap killa cam cam killa killa killa cam let end shit listen killa cam cam killa 3 killa yo dope teach rope chick want coke piff got smoke sniff everything know drift used figure dough shit million rooster nigga roaster bitch roast ya bitch thats usually end tell groupie friend go get coochie cleansed moody gucci louis pucci men escada prada chopper got uzi lens birdseye view bird knew flip bird bird gang bird flew word blew herb grew would serve stoop swerve coupe sing killa uhh killa cam killa cam cam killa cam killa cam killa cam cam killa cam killa cam cam killa killa killa cam killa cam cam killa killa cam killa cam cam killa cam killa cam killa cam cam killa cam killa cam cam killa killa killa cam killa cam cam killa'"
      ]
     },
     "execution_count": 11,
     "metadata": {},
     "output_type": "execute_result"
    }
   ],
   "source": [
    "process_lyrics(dataset['lyrics'][0])"
   ]
  },
  {
   "cell_type": "code",
   "execution_count": 13,
   "metadata": {},
   "outputs": [
    {
     "data": {
      "text/html": [
       "<div>\n",
       "<style scoped>\n",
       "    .dataframe tbody tr th:only-of-type {\n",
       "        vertical-align: middle;\n",
       "    }\n",
       "\n",
       "    .dataframe tbody tr th {\n",
       "        vertical-align: top;\n",
       "    }\n",
       "\n",
       "    .dataframe thead th {\n",
       "        text-align: right;\n",
       "    }\n",
       "</style>\n",
       "<table border=\"1\" class=\"dataframe\">\n",
       "  <thead>\n",
       "    <tr style=\"text-align: right;\">\n",
       "      <th></th>\n",
       "      <th>id</th>\n",
       "      <th>title</th>\n",
       "      <th>artist</th>\n",
       "      <th>lyrics</th>\n",
       "      <th>views</th>\n",
       "      <th>processed_lyrics</th>\n",
       "    </tr>\n",
       "  </thead>\n",
       "  <tbody>\n",
       "    <tr>\n",
       "      <th>0</th>\n",
       "      <td>1</td>\n",
       "      <td>Killa Cam</td>\n",
       "      <td>Cam'ron</td>\n",
       "      <td>[Chorus: Opera Steve &amp; Cam'ron]\\nKilla Cam, Ki...</td>\n",
       "      <td>173166</td>\n",
       "      <td>opera steve camron killa cam killa cam cam kil...</td>\n",
       "    </tr>\n",
       "    <tr>\n",
       "      <th>1</th>\n",
       "      <td>3</td>\n",
       "      <td>Can I Live</td>\n",
       "      <td>JAY-Z</td>\n",
       "      <td>[Produced by Irv Gotti]\\n\\n[Intro]\\nYeah, hah,...</td>\n",
       "      <td>468624</td>\n",
       "      <td>produced irv gotti yeah hah yeah rocafella inv...</td>\n",
       "    </tr>\n",
       "    <tr>\n",
       "      <th>2</th>\n",
       "      <td>4</td>\n",
       "      <td>Forgive Me Father</td>\n",
       "      <td>Fabolous</td>\n",
       "      <td>Maybe cause I'm eatin\\nAnd these bastards fien...</td>\n",
       "      <td>4743</td>\n",
       "      <td>maybe cause im eatin bastard fiend grub carry ...</td>\n",
       "    </tr>\n",
       "    <tr>\n",
       "      <th>3</th>\n",
       "      <td>5</td>\n",
       "      <td>Down and Out</td>\n",
       "      <td>Cam'ron</td>\n",
       "      <td>[Produced by Kanye West and Brian Miller]\\n\\n[...</td>\n",
       "      <td>144404</td>\n",
       "      <td>produced kanye west brian miller camron kanye ...</td>\n",
       "    </tr>\n",
       "    <tr>\n",
       "      <th>4</th>\n",
       "      <td>6</td>\n",
       "      <td>Fly In</td>\n",
       "      <td>Lil Wayne</td>\n",
       "      <td>[Intro]\\nSo they ask me\\n\"Young boy\\nWhat you ...</td>\n",
       "      <td>78271</td>\n",
       "      <td>ask young boy gon second time around gon come ...</td>\n",
       "    </tr>\n",
       "  </tbody>\n",
       "</table>\n",
       "</div>"
      ],
      "text/plain": [
       "   id              title     artist  \\\n",
       "0   1          Killa Cam    Cam'ron   \n",
       "1   3         Can I Live      JAY-Z   \n",
       "2   4  Forgive Me Father   Fabolous   \n",
       "3   5       Down and Out    Cam'ron   \n",
       "4   6             Fly In  Lil Wayne   \n",
       "\n",
       "                                              lyrics   views  \\\n",
       "0  [Chorus: Opera Steve & Cam'ron]\\nKilla Cam, Ki...  173166   \n",
       "1  [Produced by Irv Gotti]\\n\\n[Intro]\\nYeah, hah,...  468624   \n",
       "2  Maybe cause I'm eatin\\nAnd these bastards fien...    4743   \n",
       "3  [Produced by Kanye West and Brian Miller]\\n\\n[...  144404   \n",
       "4  [Intro]\\nSo they ask me\\n\"Young boy\\nWhat you ...   78271   \n",
       "\n",
       "                                    processed_lyrics  \n",
       "0  opera steve camron killa cam killa cam cam kil...  \n",
       "1  produced irv gotti yeah hah yeah rocafella inv...  \n",
       "2  maybe cause im eatin bastard fiend grub carry ...  \n",
       "3  produced kanye west brian miller camron kanye ...  \n",
       "4  ask young boy gon second time around gon come ...  "
      ]
     },
     "execution_count": 13,
     "metadata": {},
     "output_type": "execute_result"
    }
   ],
   "source": [
    "dataset['processed_lyrics'] = dataset['lyrics'].apply(process_lyrics)\n",
    "dataset.head()"
   ]
  },
  {
   "cell_type": "code",
   "execution_count": 12,
   "metadata": {},
   "outputs": [],
   "source": [
    "import matplotlib.pyplot as plt"
   ]
  },
  {
   "cell_type": "code",
   "execution_count": 19,
   "metadata": {},
   "outputs": [
    {
     "data": {
      "image/png": "[encoded data removed]",
      "text/plain": [
       "<Figure size 1000x600 with 1 Axes>"
      ]
     },
     "metadata": {},
     "output_type": "display_data"
    }
   ],
   "source": [
    "sorted_dataset = dataset\n",
    "\n",
    "plt.figure(figsize=(10, 6))\n",
    "plt.scatter(dataset.index, dataset['views'], alpha=0.7, color='blue')\n",
    "plt.title('Distribution of Views')\n",
    "plt.xlabel('Index')\n",
    "plt.ylabel('Views')\n",
    "plt.grid(True)\n",
    "plt.show()"
   ]
  },
  {
   "cell_type": "code",
   "execution_count": 21,
   "metadata": {},
   "outputs": [
    {
     "data": {
      "image/png": "[encoded data removed]",
      "text/plain": [
       "<Figure size 1000x600 with 1 Axes>"
      ]
     },
     "metadata": {},
     "output_type": "display_data"
    }
   ],
   "source": [
    "plt.figure(figsize=(10, 6))\n",
    "plt.hist(dataset['views'], bins=30, color='green', alpha=0.7)\n",
    "plt.title('Histogram of Views')\n",
    "plt.xlabel('Views')\n",
    "plt.ylabel('Frequency')\n",
    "plt.grid(True)\n",
    "plt.show()"
   ]
  },
  {
   "cell_type": "code",
   "execution_count": 73,
   "metadata": {},
   "outputs": [
    {
     "data": {
      "text/html": [
       "<div>\n",
       "<style scoped>\n",
       "    .dataframe tbody tr th:only-of-type {\n",
       "        vertical-align: middle;\n",
       "    }\n",
       "\n",
       "    .dataframe tbody tr th {\n",
       "        vertical-align: top;\n",
       "    }\n",
       "\n",
       "    .dataframe thead th {\n",
       "        text-align: right;\n",
       "    }\n",
       "</style>\n",
       "<table border=\"1\" class=\"dataframe\">\n",
       "  <thead>\n",
       "    <tr style=\"text-align: right;\">\n",
       "      <th></th>\n",
       "      <th>id</th>\n",
       "      <th>title</th>\n",
       "      <th>artist</th>\n",
       "      <th>lyrics</th>\n",
       "      <th>views</th>\n",
       "      <th>processed_lyrics</th>\n",
       "      <th>popularity</th>\n",
       "    </tr>\n",
       "  </thead>\n",
       "  <tbody>\n",
       "    <tr>\n",
       "      <th>0</th>\n",
       "      <td>1</td>\n",
       "      <td>Killa Cam</td>\n",
       "      <td>Cam'ron</td>\n",
       "      <td>[Chorus: Opera Steve &amp; Cam'ron]\\nKilla Cam, Ki...</td>\n",
       "      <td>173166</td>\n",
       "      <td>opera steve camron killa cam killa cam cam kil...</td>\n",
       "      <td>(70.0, 17575634.0]</td>\n",
       "    </tr>\n",
       "    <tr>\n",
       "      <th>1</th>\n",
       "      <td>3</td>\n",
       "      <td>Can I Live</td>\n",
       "      <td>JAY-Z</td>\n",
       "      <td>[Produced by Irv Gotti]\\n\\n[Intro]\\nYeah, hah,...</td>\n",
       "      <td>468624</td>\n",
       "      <td>produced irv gotti yeah hah yeah rocafella inv...</td>\n",
       "      <td>(70.0, 17575634.0]</td>\n",
       "    </tr>\n",
       "    <tr>\n",
       "      <th>2</th>\n",
       "      <td>4</td>\n",
       "      <td>Forgive Me Father</td>\n",
       "      <td>Fabolous</td>\n",
       "      <td>Maybe cause I'm eatin\\nAnd these bastards fien...</td>\n",
       "      <td>4743</td>\n",
       "      <td>maybe cause im eatin bastard fiend grub carry ...</td>\n",
       "      <td>(70.0, 17575634.0]</td>\n",
       "    </tr>\n",
       "    <tr>\n",
       "      <th>3</th>\n",
       "      <td>5</td>\n",
       "      <td>Down and Out</td>\n",
       "      <td>Cam'ron</td>\n",
       "      <td>[Produced by Kanye West and Brian Miller]\\n\\n[...</td>\n",
       "      <td>144404</td>\n",
       "      <td>produced kanye west brian miller camron kanye ...</td>\n",
       "      <td>(70.0, 17575634.0]</td>\n",
       "    </tr>\n",
       "    <tr>\n",
       "      <th>4</th>\n",
       "      <td>6</td>\n",
       "      <td>Fly In</td>\n",
       "      <td>Lil Wayne</td>\n",
       "      <td>[Intro]\\nSo they ask me\\n\"Young boy\\nWhat you ...</td>\n",
       "      <td>78271</td>\n",
       "      <td>ask young boy gon second time around gon come ...</td>\n",
       "      <td>(70.0, 17575634.0]</td>\n",
       "    </tr>\n",
       "  </tbody>\n",
       "</table>\n",
       "</div>"
      ],
      "text/plain": [
       "   id              title     artist  \\\n",
       "0   1          Killa Cam    Cam'ron   \n",
       "1   3         Can I Live      JAY-Z   \n",
       "2   4  Forgive Me Father   Fabolous   \n",
       "3   5       Down and Out    Cam'ron   \n",
       "4   6             Fly In  Lil Wayne   \n",
       "\n",
       "                                              lyrics   views  \\\n",
       "0  [Chorus: Opera Steve & Cam'ron]\\nKilla Cam, Ki...  173166   \n",
       "1  [Produced by Irv Gotti]\\n\\n[Intro]\\nYeah, hah,...  468624   \n",
       "2  Maybe cause I'm eatin\\nAnd these bastards fien...    4743   \n",
       "3  [Produced by Kanye West and Brian Miller]\\n\\n[...  144404   \n",
       "4  [Intro]\\nSo they ask me\\n\"Young boy\\nWhat you ...   78271   \n",
       "\n",
       "                                    processed_lyrics          popularity  \n",
       "0  opera steve camron killa cam killa cam cam kil...  (70.0, 17575634.0]  \n",
       "1  produced irv gotti yeah hah yeah rocafella inv...  (70.0, 17575634.0]  \n",
       "2  maybe cause im eatin bastard fiend grub carry ...  (70.0, 17575634.0]  \n",
       "3  produced kanye west brian miller camron kanye ...  (70.0, 17575634.0]  \n",
       "4  ask young boy gon second time around gon come ...  (70.0, 17575634.0]  "
      ]
     },
     "execution_count": 73,
     "metadata": {},
     "output_type": "execute_result"
    }
   ],
   "source": [
    "dataset['popularity'] = pd.qcut(dataset['views'], q=2)\n",
    "dataset.head()"
   ]
  },
  {
   "cell_type": "code",
   "execution_count": 15,
   "metadata": {},
   "outputs": [
    {
     "name": "stdout",
     "output_type": "stream",
     "text": [
      "4820080\n",
      "(964016, 5)\n"
     ]
    },
    {
     "data": {
      "text/html": [
       "<div>\n",
       "<style scoped>\n",
       "    .dataframe tbody tr th:only-of-type {\n",
       "        vertical-align: middle;\n",
       "    }\n",
       "\n",
       "    .dataframe tbody tr th {\n",
       "        vertical-align: top;\n",
       "    }\n",
       "\n",
       "    .dataframe thead th {\n",
       "        text-align: right;\n",
       "    }\n",
       "</style>\n",
       "<table border=\"1\" class=\"dataframe\">\n",
       "  <thead>\n",
       "    <tr style=\"text-align: right;\">\n",
       "      <th></th>\n",
       "      <th>id</th>\n",
       "      <th>title</th>\n",
       "      <th>artist</th>\n",
       "      <th>processed_lyrics</th>\n",
       "      <th>popularity</th>\n",
       "    </tr>\n",
       "  </thead>\n",
       "  <tbody>\n",
       "    <tr>\n",
       "      <th>0</th>\n",
       "      <td>1</td>\n",
       "      <td>Killa Cam</td>\n",
       "      <td>Cam'ron</td>\n",
       "      <td>opera steve camron killa cam killa cam cam kil...</td>\n",
       "      <td>High</td>\n",
       "    </tr>\n",
       "    <tr>\n",
       "      <th>1</th>\n",
       "      <td>3</td>\n",
       "      <td>Can I Live</td>\n",
       "      <td>JAY-Z</td>\n",
       "      <td>produced irv gotti yeah hah yeah rocafella inv...</td>\n",
       "      <td>High</td>\n",
       "    </tr>\n",
       "    <tr>\n",
       "      <th>2</th>\n",
       "      <td>4</td>\n",
       "      <td>Forgive Me Father</td>\n",
       "      <td>Fabolous</td>\n",
       "      <td>maybe cause im eatin bastard fiend grub carry ...</td>\n",
       "      <td>High</td>\n",
       "    </tr>\n",
       "    <tr>\n",
       "      <th>3</th>\n",
       "      <td>5</td>\n",
       "      <td>Down and Out</td>\n",
       "      <td>Cam'ron</td>\n",
       "      <td>produced kanye west brian miller camron kanye ...</td>\n",
       "      <td>High</td>\n",
       "    </tr>\n",
       "    <tr>\n",
       "      <th>4</th>\n",
       "      <td>6</td>\n",
       "      <td>Fly In</td>\n",
       "      <td>Lil Wayne</td>\n",
       "      <td>ask young boy gon second time around gon come ...</td>\n",
       "      <td>High</td>\n",
       "    </tr>\n",
       "  </tbody>\n",
       "</table>\n",
       "</div>"
      ],
      "text/plain": [
       "   id              title     artist  \\\n",
       "0   1          Killa Cam    Cam'ron   \n",
       "1   3         Can I Live      JAY-Z   \n",
       "2   4  Forgive Me Father   Fabolous   \n",
       "3   5       Down and Out    Cam'ron   \n",
       "4   6             Fly In  Lil Wayne   \n",
       "\n",
       "                                    processed_lyrics popularity  \n",
       "0  opera steve camron killa cam killa cam cam kil...       High  \n",
       "1  produced irv gotti yeah hah yeah rocafella inv...       High  \n",
       "2  maybe cause im eatin bastard fiend grub carry ...       High  \n",
       "3  produced kanye west brian miller camron kanye ...       High  \n",
       "4  ask young boy gon second time around gon come ...       High  "
      ]
     },
     "execution_count": 15,
     "metadata": {},
     "output_type": "execute_result"
    }
   ],
   "source": [
    "songs = dataset[['id', 'title', 'artist', 'processed_lyrics', 'popularity']]\n",
    "songs.to_csv('processed_song_lyrics.csv', index=False)\n",
    "print(songs.size)\n",
    "print(songs.shape)\n",
    "songs.head()"
   ]
  },
  {
   "cell_type": "code",
   "execution_count": 16,
   "metadata": {},
   "outputs": [],
   "source": [
    "songs = pd.read_csv('processed_song_lyrics.csv')"
   ]
  },
  {
   "cell_type": "code",
   "execution_count": 17,
   "metadata": {},
   "outputs": [],
   "source": [
    "from features import *\n",
    "features = pd.DataFrame()"
   ]
  },
  {
   "cell_type": "code",
   "execution_count": 18,
   "metadata": {},
   "outputs": [],
   "source": [
    "features['word_count'] = songs['processed_lyrics'].apply(word_count)"
   ]
  },
  {
   "cell_type": "code",
   "execution_count": 19,
   "metadata": {},
   "outputs": [],
   "source": [
    "features['unique_word_count'] = songs['processed_lyrics'].apply(unique_word_count)"
   ]
  },
  {
   "cell_type": "code",
   "execution_count": 20,
   "metadata": {},
   "outputs": [],
   "source": [
    "features['sentiment_polarity'], features['sentiment_subjectivity'] = zip(*songs['processed_lyrics'].apply(sentiment_analysis))"
   ]
  },
  {
   "cell_type": "code",
   "execution_count": 21,
   "metadata": {},
   "outputs": [],
   "source": [
    "features['profanity_count'] = songs['processed_lyrics'].apply(profanity_count)"
   ]
  },
  {
   "cell_type": "code",
   "execution_count": 22,
   "metadata": {},
   "outputs": [],
   "source": [
    "features['readability_score'] = songs['processed_lyrics'].apply(readability_scores)"
   ]
  },
  {
   "cell_type": "code",
   "execution_count": 24,
   "metadata": {},
   "outputs": [
    {
     "data": {
      "text/html": [
       "<div>\n",
       "<style scoped>\n",
       "    .dataframe tbody tr th:only-of-type {\n",
       "        vertical-align: middle;\n",
       "    }\n",
       "\n",
       "    .dataframe tbody tr th {\n",
       "        vertical-align: top;\n",
       "    }\n",
       "\n",
       "    .dataframe thead th {\n",
       "        text-align: right;\n",
       "    }\n",
       "</style>\n",
       "<table border=\"1\" class=\"dataframe\">\n",
       "  <thead>\n",
       "    <tr style=\"text-align: right;\">\n",
       "      <th></th>\n",
       "      <th>word_count</th>\n",
       "      <th>unique_word_count</th>\n",
       "      <th>sentiment_polarity</th>\n",
       "      <th>sentiment_subjectivity</th>\n",
       "      <th>profanity_count</th>\n",
       "      <th>readability_score</th>\n",
       "    </tr>\n",
       "  </thead>\n",
       "  <tbody>\n",
       "    <tr>\n",
       "      <th>0</th>\n",
       "      <td>571</td>\n",
       "      <td>233</td>\n",
       "      <td>-0.025524</td>\n",
       "      <td>0.545047</td>\n",
       "      <td>14</td>\n",
       "      <td>-493.925797</td>\n",
       "    </tr>\n",
       "    <tr>\n",
       "      <th>1</th>\n",
       "      <td>305</td>\n",
       "      <td>254</td>\n",
       "      <td>-0.000433</td>\n",
       "      <td>0.532964</td>\n",
       "      <td>3</td>\n",
       "      <td>-245.589180</td>\n",
       "    </tr>\n",
       "    <tr>\n",
       "      <th>2</th>\n",
       "      <td>303</td>\n",
       "      <td>235</td>\n",
       "      <td>-0.015404</td>\n",
       "      <td>0.378497</td>\n",
       "      <td>9</td>\n",
       "      <td>-221.886238</td>\n",
       "    </tr>\n",
       "    <tr>\n",
       "      <th>3</th>\n",
       "      <td>447</td>\n",
       "      <td>272</td>\n",
       "      <td>-0.014984</td>\n",
       "      <td>0.444097</td>\n",
       "      <td>12</td>\n",
       "      <td>-372.350537</td>\n",
       "    </tr>\n",
       "    <tr>\n",
       "      <th>4</th>\n",
       "      <td>241</td>\n",
       "      <td>177</td>\n",
       "      <td>-0.033667</td>\n",
       "      <td>0.320000</td>\n",
       "      <td>10</td>\n",
       "      <td>-158.887884</td>\n",
       "    </tr>\n",
       "  </tbody>\n",
       "</table>\n",
       "</div>"
      ],
      "text/plain": [
       "   word_count  unique_word_count  sentiment_polarity  sentiment_subjectivity  \\\n",
       "0         571                233           -0.025524                0.545047   \n",
       "1         305                254           -0.000433                0.532964   \n",
       "2         303                235           -0.015404                0.378497   \n",
       "3         447                272           -0.014984                0.444097   \n",
       "4         241                177           -0.033667                0.320000   \n",
       "\n",
       "   profanity_count  readability_score  \n",
       "0               14        -493.925797  \n",
       "1                3        -245.589180  \n",
       "2                9        -221.886238  \n",
       "3               12        -372.350537  \n",
       "4               10        -158.887884  "
      ]
     },
     "execution_count": 24,
     "metadata": {},
     "output_type": "execute_result"
    }
   ],
   "source": [
    "features.to_csv('features.csv', index=False)\n",
    "features.head()\n"
   ]
  },
  {
   "cell_type": "code",
   "execution_count": 25,
   "metadata": {},
   "outputs": [],
   "source": [
    "from sklearn.model_selection import train_test_split"
   ]
  },
  {
   "cell_type": "code",
   "execution_count": 49,
   "metadata": {},
   "outputs": [],
   "source": [
    "X = features[['word_count', 'unique_word_count', 'sentiment_polarity', 'sentiment_subjectivity', 'profanity_count', 'readability_score']]\n",
    "y = songs['popularity']\n",
    "\n",
    "X_train, X_test, y_train, y_test = train_test_split(X, y, test_size=0.2, random_state=42)"
   ]
  },
  {
   "cell_type": "code",
   "execution_count": 50,
   "metadata": {},
   "outputs": [],
   "source": [
    "from models.multinomial_logistic_regression import *\n",
    "from evaluate import *"
   ]
  },
  {
   "cell_type": "code",
   "execution_count": 56,
   "metadata": {},
   "outputs": [],
   "source": [
    "mlr = MLR()"
   ]
  },
  {
   "cell_type": "code",
   "execution_count": 58,
   "metadata": {},
   "outputs": [
    {
     "name": "stdout",
     "output_type": "stream",
     "text": [
      "Fitting 5 folds for each of 20 candidates, totalling 100 fits\n"
     ]
    },
    {
     "name": "stderr",
     "output_type": "stream",
     "text": [
      "Python(95689) MallocStackLogging: can't turn off malloc stack logging because it was not enabled.\n",
      "Python(95690) MallocStackLogging: can't turn off malloc stack logging because it was not enabled.\n",
      "Python(95692) MallocStackLogging: can't turn off malloc stack logging because it was not enabled.\n",
      "Python(95693) MallocStackLogging: can't turn off malloc stack logging because it was not enabled.\n",
      "Python(95694) MallocStackLogging: can't turn off malloc stack logging because it was not enabled.\n",
      "Python(95696) MallocStackLogging: can't turn off malloc stack logging because it was not enabled.\n",
      "Python(95697) MallocStackLogging: can't turn off malloc stack logging because it was not enabled.\n",
      "Python(95698) MallocStackLogging: can't turn off malloc stack logging because it was not enabled.\n",
      "/usr/local/lib/python3.9/site-packages/scipy/optimize/_linesearch.py:314: LineSearchWarning: The line search algorithm did not converge\n",
      "  warn('The line search algorithm did not converge', LineSearchWarning)\n",
      "/usr/local/lib/python3.9/site-packages/sklearn/utils/optimize.py:204: UserWarning: Line Search failed\n",
      "  warnings.warn(\"Line Search failed\")\n"
     ]
    },
    {
     "name": "stdout",
     "output_type": "stream",
     "text": [
      "{'logisticregression__C': 0.1, 'logisticregression__max_iter': 10000, 'logisticregression__solver': 'sag', 'logisticregression__tol': 0.001}\n"
     ]
    }
   ],
   "source": [
    "mlr_hyperparameters = mlr.cross_validation(X_train, y_train)\n",
    "print(mlr_hyperparameters)"
   ]
  },
  {
   "cell_type": "code",
   "execution_count": 59,
   "metadata": {},
   "outputs": [
    {
     "data": {
      "text/html": [
       "<style>#sk-container-id-3 {color: black;}#sk-container-id-3 pre{padding: 0;}#sk-container-id-3 div.sk-toggleable {background-color: white;}#sk-container-id-3 label.sk-toggleable__label {cursor: pointer;display: block;width: 100%;margin-bottom: 0;padding: 0.3em;box-sizing: border-box;text-align: center;}#sk-container-id-3 label.sk-toggleable__label-arrow:before {content: \"▸\";float: left;margin-right: 0.25em;color: #696969;}#sk-container-id-3 label.sk-toggleable__label-arrow:hover:before {color: black;}#sk-container-id-3 div.sk-estimator:hover label.sk-toggleable__label-arrow:before {color: black;}#sk-container-id-3 div.sk-toggleable__content {max-height: 0;max-width: 0;overflow: hidden;text-align: left;background-color: #f0f8ff;}#sk-container-id-3 div.sk-toggleable__content pre {margin: 0.2em;color: black;border-radius: 0.25em;background-color: #f0f8ff;}#sk-container-id-3 input.sk-toggleable__control:checked~div.sk-toggleable__content {max-height: 200px;max-width: 100%;overflow: auto;}#sk-container-id-3 input.sk-toggleable__control:checked~label.sk-toggleable__label-arrow:before {content: \"▾\";}#sk-container-id-3 div.sk-estimator input.sk-toggleable__control:checked~label.sk-toggleable__label {background-color: #d4ebff;}#sk-container-id-3 div.sk-label input.sk-toggleable__control:checked~label.sk-toggleable__label {background-color: #d4ebff;}#sk-container-id-3 input.sk-hidden--visually {border: 0;clip: rect(1px 1px 1px 1px);clip: rect(1px, 1px, 1px, 1px);height: 1px;margin: -1px;overflow: hidden;padding: 0;position: absolute;width: 1px;}#sk-container-id-3 div.sk-estimator {font-family: monospace;background-color: #f0f8ff;border: 1px dotted black;border-radius: 0.25em;box-sizing: border-box;margin-bottom: 0.5em;}#sk-container-id-3 div.sk-estimator:hover {background-color: #d4ebff;}#sk-container-id-3 div.sk-parallel-item::after {content: \"\";width: 100%;border-bottom: 1px solid gray;flex-grow: 1;}#sk-container-id-3 div.sk-label:hover label.sk-toggleable__label {background-color: #d4ebff;}#sk-container-id-3 div.sk-serial::before {content: \"\";position: absolute;border-left: 1px solid gray;box-sizing: border-box;top: 0;bottom: 0;left: 50%;z-index: 0;}#sk-container-id-3 div.sk-serial {display: flex;flex-direction: column;align-items: center;background-color: white;padding-right: 0.2em;padding-left: 0.2em;position: relative;}#sk-container-id-3 div.sk-item {position: relative;z-index: 1;}#sk-container-id-3 div.sk-parallel {display: flex;align-items: stretch;justify-content: center;background-color: white;position: relative;}#sk-container-id-3 div.sk-item::before, #sk-container-id-3 div.sk-parallel-item::before {content: \"\";position: absolute;border-left: 1px solid gray;box-sizing: border-box;top: 0;bottom: 0;left: 50%;z-index: -1;}#sk-container-id-3 div.sk-parallel-item {display: flex;flex-direction: column;z-index: 1;position: relative;background-color: white;}#sk-container-id-3 div.sk-parallel-item:first-child::after {align-self: flex-end;width: 50%;}#sk-container-id-3 div.sk-parallel-item:last-child::after {align-self: flex-start;width: 50%;}#sk-container-id-3 div.sk-parallel-item:only-child::after {width: 0;}#sk-container-id-3 div.sk-dashed-wrapped {border: 1px dashed gray;margin: 0 0.4em 0.5em 0.4em;box-sizing: border-box;padding-bottom: 0.4em;background-color: white;}#sk-container-id-3 div.sk-label label {font-family: monospace;font-weight: bold;display: inline-block;line-height: 1.2em;}#sk-container-id-3 div.sk-label-container {text-align: center;}#sk-container-id-3 div.sk-container {/* jupyter's `normalize.less` sets `[hidden] { display: none; }` but bootstrap.min.css set `[hidden] { display: none !important; }` so we also need the `!important` here to be able to override the default hidden behavior on the sphinx rendered scikit-learn.org. See: https://github.com/scikit-learn/scikit-learn/issues/21755 */display: inline-block !important;position: relative;}#sk-container-id-3 div.sk-text-repr-fallback {display: none;}</style><div id=\"sk-container-id-3\" class=\"sk-top-container\"><div class=\"sk-text-repr-fallback\"><pre>LogisticRegression(C=0.1, max_iter=10000, multi_class=&#x27;multinomial&#x27;,\n",
       "                   solver=&#x27;sag&#x27;, tol=0.001)</pre><b>In a Jupyter environment, please rerun this cell to show the HTML representation or trust the notebook. <br />On GitHub, the HTML representation is unable to render, please try loading this page with nbviewer.org.</b></div><div class=\"sk-container\" hidden><div class=\"sk-item\"><div class=\"sk-estimator sk-toggleable\"><input class=\"sk-toggleable__control sk-hidden--visually\" id=\"sk-estimator-id-3\" type=\"checkbox\" checked><label for=\"sk-estimator-id-3\" class=\"sk-toggleable__label sk-toggleable__label-arrow\">LogisticRegression</label><div class=\"sk-toggleable__content\"><pre>LogisticRegression(C=0.1, max_iter=10000, multi_class=&#x27;multinomial&#x27;,\n",
       "                   solver=&#x27;sag&#x27;, tol=0.001)</pre></div></div></div></div></div>"
      ],
      "text/plain": [
       "LogisticRegression(C=0.1, max_iter=10000, multi_class='multinomial',\n",
       "                   solver='sag', tol=0.001)"
      ]
     },
     "execution_count": 59,
     "metadata": {},
     "output_type": "execute_result"
    }
   ],
   "source": [
    "mlr.fit(X_train,y_train, mlr_hyperparameters)\n",
    "mlr.mlr"
   ]
  },
  {
   "cell_type": "code",
   "execution_count": 60,
   "metadata": {},
   "outputs": [
    {
     "name": "stdout",
     "output_type": "stream",
     "text": [
      "['Medium' 'High' 'High' ... 'High' 'High' 'Low']\n"
     ]
    }
   ],
   "source": [
    "mlr_prediction = mlr.predict(X_test)\n",
    "print(mlr_prediction)"
   ]
  },
  {
   "cell_type": "code",
   "execution_count": 61,
   "metadata": {},
   "outputs": [
    {
     "name": "stdout",
     "output_type": "stream",
     "text": [
      "Accuracy: 0.43679591709715565\n",
      "Macro f1: 0.42312718592262294\n",
      "Micro f1: 0.4367959170971556\n"
     ]
    }
   ],
   "source": [
    "accuracy, mac_f1, mic_f1 = evaluate(mlr_prediction, y_test)\n",
    "print(f\"Accuracy: {accuracy}\")\n",
    "print(f\"Macro f1: {mac_f1}\")\n",
    "print(f\"Micro f1: {mic_f1}\")"
   ]
  },
  {
   "cell_type": "code",
   "execution_count": 46,
   "metadata": {},
   "outputs": [],
   "source": [
    "import torch\n",
    "from torch.utils.data import TensorDataset, DataLoader\n",
    "from sklearn.preprocessing import StandardScaler\n",
    "from sklearn.preprocessing import LabelEncoder"
   ]
  },
  {
   "cell_type": "code",
   "execution_count": 69,
   "metadata": {},
   "outputs": [],
   "source": [
    "label_encoder = LabelEncoder()\n",
    "y_encoded = label_encoder.fit_transform(y)\n",
    "\n",
    "scaler = StandardScaler()\n",
    "X_scaled = scaler.fit_transform(X)\n",
    "\n",
    "X_train, X_test, y_train, y_test = train_test_split(X_scaled, y_encoded, test_size=0.2, random_state=42)\n",
    "\n",
    "X_train_tensor = torch.tensor(X_train, dtype=torch.float32)\n",
    "y_train_tensor = torch.tensor(y_train, dtype=torch.long)\n",
    "\n",
    "X_test_tensor = torch.tensor(X_test, dtype=torch.float32)\n",
    "y_test_tensor = torch.tensor(y_test, dtype=torch.long)\n",
    "\n",
    "train_data = TensorDataset(X_train_tensor, y_train_tensor)\n",
    "train_loader = DataLoader(dataset=train_data, batch_size=32, shuffle=True)"
   ]
  },
  {
   "cell_type": "code",
   "execution_count": 70,
   "metadata": {},
   "outputs": [],
   "source": [
    "from models.neural_network import *"
   ]
  },
  {
   "cell_type": "code",
   "execution_count": 64,
   "metadata": {},
   "outputs": [
    {
     "name": "stdout",
     "output_type": "stream",
     "text": [
      "Epoch [1/50], Loss: 1.0226\n",
      "Epoch [2/50], Loss: 1.1923\n",
      "Epoch [3/50], Loss: 0.9744\n",
      "Epoch [4/50], Loss: 1.0766\n",
      "Epoch [5/50], Loss: 1.0681\n",
      "Epoch [6/50], Loss: 0.9811\n",
      "Epoch [7/50], Loss: 1.1881\n",
      "Epoch [8/50], Loss: 1.0913\n",
      "Epoch [9/50], Loss: 1.1365\n",
      "Epoch [10/50], Loss: 1.0602\n",
      "Epoch [11/50], Loss: 1.0883\n",
      "Epoch [12/50], Loss: 1.0877\n",
      "Epoch [13/50], Loss: 0.9885\n",
      "Epoch [14/50], Loss: 1.1390\n",
      "Epoch [15/50], Loss: 1.0650\n",
      "Epoch [16/50], Loss: 1.0987\n",
      "Epoch [17/50], Loss: 0.8997\n",
      "Epoch [18/50], Loss: 1.1625\n",
      "Epoch [19/50], Loss: 1.0235\n",
      "Epoch [20/50], Loss: 1.0537\n",
      "Epoch [21/50], Loss: 1.1300\n",
      "Epoch [22/50], Loss: 0.9939\n",
      "Epoch [23/50], Loss: 1.1894\n",
      "Epoch [24/50], Loss: 1.0750\n",
      "Epoch [25/50], Loss: 0.9065\n",
      "Epoch [26/50], Loss: 1.0067\n",
      "Epoch [27/50], Loss: 0.8882\n",
      "Epoch [28/50], Loss: 1.0699\n",
      "Epoch [29/50], Loss: 0.9410\n",
      "Epoch [30/50], Loss: 0.9538\n",
      "Epoch [31/50], Loss: 0.9689\n",
      "Epoch [32/50], Loss: 1.0022\n",
      "Epoch [33/50], Loss: 1.0457\n",
      "Epoch [34/50], Loss: 1.0435\n",
      "Epoch [35/50], Loss: 1.0201\n",
      "Epoch [36/50], Loss: 1.1491\n",
      "Epoch [37/50], Loss: 1.1168\n",
      "Epoch [38/50], Loss: 1.1350\n",
      "Epoch [39/50], Loss: 1.0494\n",
      "Epoch [40/50], Loss: 1.0175\n",
      "Epoch [41/50], Loss: 1.0320\n",
      "Epoch [42/50], Loss: 1.2859\n",
      "Epoch [43/50], Loss: 1.0943\n",
      "Epoch [44/50], Loss: 1.0935\n",
      "Epoch [45/50], Loss: 1.0379\n",
      "Epoch [46/50], Loss: 0.9704\n",
      "Epoch [47/50], Loss: 1.1897\n",
      "Epoch [48/50], Loss: 1.0906\n",
      "Epoch [49/50], Loss: 1.1014\n",
      "Epoch [50/50], Loss: 0.8823\n"
     ]
    }
   ],
   "source": [
    "model = SongPopularityClassifier()\n",
    "model.train_model(train_loader, number_of_epochs=50, learning_rate=0.001)"
   ]
  },
  {
   "cell_type": "code",
   "execution_count": 67,
   "metadata": {},
   "outputs": [],
   "source": [
    "probabilities, predicted_classes = model.get_predictions(X_test_tensor)"
   ]
  },
  {
   "cell_type": "code",
   "execution_count": 68,
   "metadata": {},
   "outputs": [
    {
     "name": "stdout",
     "output_type": "stream",
     "text": [
      "Accuracy: 0.441552042488745\n",
      "Macro f1: 0.42042380596315776\n",
      "Micro f1: 0.441552042488745\n"
     ]
    }
   ],
   "source": [
    "nn_accuracy, nn_mac_f1, nn_mic_f1 = evaluate(predicted_classes, y_test)\n",
    "print(f\"Accuracy: {nn_accuracy}\")\n",
    "print(f\"Macro f1: {nn_mac_f1}\")\n",
    "print(f\"Micro f1: {nn_mic_f1}\")"
   ]
  }
 ],
 "metadata": {
  "interpreter": {
   "hash": "397704579725e15f5c7cb49fe5f0341eb7531c82d19f2c29d197e8b64ab5776b"
  },
  "kernelspec": {
   "display_name": "Python 3.9.14 64-bit",
   "language": "python",
   "name": "python3"
  },
  "language_info": {
   "codemirror_mode": {
    "name": "ipython",
    "version": 3
   },
   "file_extension": ".py",
   "mimetype": "text/x-python",
   "name": "python",
   "nbconvert_exporter": "python",
   "pygments_lexer": "ipython3",
   "version": "3.9.14"
  },
  "orig_nbformat": 4
 },
 "nbformat": 4,
 "nbformat_minor": 2
}
